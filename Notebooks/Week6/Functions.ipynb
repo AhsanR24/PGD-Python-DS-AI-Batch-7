{
 "cells": [
  {
   "cell_type": "markdown",
   "id": "69cb830d",
   "metadata": {},
   "source": [
    "# Functions"
   ]
  },
  {
   "cell_type": "raw",
   "id": "0527a3b5",
   "metadata": {},
   "source": [
    "Functions in Python provide organized, reusable and modular code to perform a set of specific actions.\n",
    "Functions simplify the coding process, prevent redundant logic, and make the code easier to follow. This topic describes the declaration and utilization of functions in Python.\n",
    "\n",
    "Python has many built-in functions like print().,input(), len(). \n",
    "Besides built-ins you can also create your own functions to do more specific jobs—these are called user-defined functions."
   ]
  },
  {
   "cell_type": "raw",
   "id": "ed654a55",
   "metadata": {},
   "source": [
    "def function_name(parameter):\n",
    "    \"\"\"doc string\"\"\"\n",
    "    expression\n",
    "    statement(s)"
   ]
  },
  {
   "cell_type": "code",
   "execution_count": 6,
   "id": "f6a84b8f",
   "metadata": {},
   "outputs": [
    {
     "data": {
      "text/plain": [
       "4"
      ]
     },
     "execution_count": 6,
     "metadata": {},
     "output_type": "execute_result"
    }
   ],
   "source": [
    "def square(): #function to find square of a number\n",
    "    \"\"\"This function is used for only square\"\"\"  # \"\"\"doc string\"\"\"\n",
    "    x = 2**2  # expression\n",
    "    return x # statement\n",
    "\n",
    "square()"
   ]
  },
  {
   "cell_type": "code",
   "execution_count": 10,
   "id": "ae864081",
   "metadata": {},
   "outputs": [
    {
     "name": "stdout",
     "output_type": "stream",
     "text": [
      "enter a number: 3\n"
     ]
    },
    {
     "data": {
      "text/plain": [
       "27"
      ]
     },
     "execution_count": 10,
     "metadata": {},
     "output_type": "execute_result"
    }
   ],
   "source": [
    "i = int(input(\"enter a number: \"))\n",
    "\n",
    "def cube():\n",
    "  x = i**3\n",
    "  return x\n",
    "\n",
    "cube()"
   ]
  },
  {
   "cell_type": "code",
   "execution_count": 14,
   "id": "ebb56f5e",
   "metadata": {},
   "outputs": [
    {
     "name": "stdout",
     "output_type": "stream",
     "text": [
      "Perform Adition\n"
     ]
    },
    {
     "data": {
      "text/plain": [
       "7"
      ]
     },
     "execution_count": 14,
     "metadata": {},
     "output_type": "execute_result"
    }
   ],
   "source": [
    "\n",
    "def add():\n",
    "  x = 3+4\n",
    "  print(\"Perform Adition\")\n",
    "  return x\n",
    "\n",
    "add()"
   ]
  },
  {
   "cell_type": "code",
   "execution_count": 8,
   "id": "3e033038",
   "metadata": {},
   "outputs": [
    {
     "name": "stdout",
     "output_type": "stream",
     "text": [
      "This is the 1st program of function\n",
      "It is building block\n"
     ]
    }
   ],
   "source": [
    "def greeting():\n",
    "    print(\"This is the 1st program of function\")\n",
    "    print(\"It is building block\")\n",
    "greeting() # Calling function"
   ]
  },
  {
   "cell_type": "code",
   "execution_count": 17,
   "id": "68f76119",
   "metadata": {},
   "outputs": [
    {
     "name": "stdout",
     "output_type": "stream",
     "text": [
      "First Name Asad Ahmed\n"
     ]
    }
   ],
   "source": [
    "def myfunc(fname,lname): # function with one paramenter\n",
    "    print(\"First Name \"+ fname+' '+lname)\n",
    "name = input()\n",
    "lname =input() \n",
    "myfunc(\"Asad\",\"Ahmed\") # function with one argument\n",
    "myfunc(name,lname)"
   ]
  },
  {
   "cell_type": "code",
   "execution_count": 18,
   "id": "4bcc7784",
   "metadata": {},
   "outputs": [
    {
     "name": "stdout",
     "output_type": "stream",
     "text": [
      "Enter your first name: Sajid\n",
      "Enter your last name: Majeed\n",
      "Enter your age: 31\n",
      "Enter your qualification: MS Data Science\n",
      "Name: Sajid Majeed\n",
      "Age: 31\n",
      "Qualification: MS Data Science\n"
     ]
    }
   ],
   "source": [
    "def myfunc(fname, lname, age, qualification):\n",
    "    print(\"Name: \" + fname + \" \" + lname)\n",
    "    print(\"Age: \" + str(age))\n",
    "    print(\"Qualification: \" + qualification)\n",
    "\n",
    "fname = input(\"Enter your first name: \")\n",
    "lname = input(\"Enter your last name: \")\n",
    "age = int(input(\"Enter your age: \"))\n",
    "qualification = input(\"Enter your qualification: \")\n",
    "\n",
    "myfunc(fname, lname, age, qualification)"
   ]
  },
  {
   "cell_type": "code",
   "execution_count": 24,
   "id": "15699684",
   "metadata": {},
   "outputs": [
    {
     "name": "stdout",
     "output_type": "stream",
     "text": [
      "Howdy\n"
     ]
    }
   ],
   "source": [
    "def greet_two(greeting=\"Howdy\"):\n",
    "    print(greeting)\n",
    "greet_two()"
   ]
  },
  {
   "cell_type": "code",
   "execution_count": null,
   "id": "ea45ead0",
   "metadata": {},
   "outputs": [],
   "source": [
    "4! = 4*3*2*1\n",
    "\n",
    "4\n",
    "return 4 * factorial(4-1)---> 4*3\n",
    "       3 * factorial(3-1)---> 3*2"
   ]
  },
  {
   "cell_type": "code",
   "execution_count": 31,
   "id": "e87b3575",
   "metadata": {},
   "outputs": [
    {
     "name": "stdout",
     "output_type": "stream",
     "text": [
      "Enter your desired Number4\n",
      "Factorial of your desired Num is  4\n"
     ]
    }
   ],
   "source": [
    "def factorial(num): # Calculate factorial of a number using recursive function c 4x3x2x1=24\n",
    "    if num <=1 :\n",
    "        return 1\n",
    "    else:\n",
    "        return num * factorial(num-1)\n",
    "num=int(input(\"Enter your desired Number\"))\n",
    "print(\"Factorial of your desired Num is \",num)"
   ]
  },
  {
   "cell_type": "code",
   "execution_count": 32,
   "id": "2bc7d268",
   "metadata": {},
   "outputs": [],
   "source": [
    "# calculate a perimeter and area of a rectangle using function methodology . \n",
    "# Take user input also\n",
    "# Area = length * Breadth\n",
    "# Perimeter = 2(length+Breadth)"
   ]
  },
  {
   "cell_type": "code",
   "execution_count": 1,
   "id": "372465f9",
   "metadata": {},
   "outputs": [
    {
     "name": "stdout",
     "output_type": "stream",
     "text": [
      "[4, 9, 16, 25, 36]\n"
     ]
    }
   ],
   "source": [
    "def square_numbers(numbers):\n",
    "    list_squares = []\n",
    "    for x in numbers:\n",
    "        list_squares.append(x*x)\n",
    "    return list_squares\n",
    "\n",
    "numbers_list = [2,3,4,5,6]\n",
    "print(square_numbers(numbers_list))"
   ]
  },
  {
   "cell_type": "code",
   "execution_count": 4,
   "id": "dbc09cd3",
   "metadata": {},
   "outputs": [
    {
     "name": "stdout",
     "output_type": "stream",
     "text": [
      "[]\n",
      "Enter your desired Number4\n",
      "Enter your Number3\n",
      "Enter your Number4\n",
      "Enter your Number5\n",
      "Enter your Number6\n",
      "[3, 4, 5, 6]\n",
      "[9, 16, 25, 36]\n"
     ]
    }
   ],
   "source": [
    "numlist=[]\n",
    "print(numlist)\n",
    "\n",
    "n=int(input(\"Enter your desired Number\"))\n",
    "\n",
    "for n in range(0,n):\n",
    "    element = int(input(\"Enter your Number\"))\n",
    "    numlist.append(element)\n",
    "print(numlist)\n",
    "\n",
    "def square_numbers(numbers):\n",
    "    list_squares = []\n",
    "    for x in numbers:\n",
    "        list_squares.append(x*x)\n",
    "    return list_squares\n",
    "\n",
    "numbers_list = numlist\n",
    "print(square_numbers(numbers_list))"
   ]
  },
  {
   "cell_type": "markdown",
   "id": "ebc284ca",
   "metadata": {},
   "source": [
    "# Multiple Parameter & Multiple Arguments Using \"**args\""
   ]
  },
  {
   "cell_type": "code",
   "execution_count": 5,
   "id": "fa2b081d",
   "metadata": {},
   "outputs": [
    {
     "name": "stdout",
     "output_type": "stream",
     "text": [
      "(1, 2, 3, 4, 5, 6, 7, 8, 9, 10)\n"
     ]
    }
   ],
   "source": [
    "def func1(*args):\n",
    "    print(args)\n",
    "func1(1,2,3,4,5,6,7,8,9,10)"
   ]
  },
  {
   "cell_type": "code",
   "execution_count": 6,
   "id": "7cb8c5a1",
   "metadata": {},
   "outputs": [
    {
     "name": "stdout",
     "output_type": "stream",
     "text": [
      "1\n",
      "2\n",
      "3\n",
      "4\n",
      "5\n",
      "6\n",
      "7\n",
      "8\n",
      "9\n",
      "10\n"
     ]
    }
   ],
   "source": [
    "def func1(*args):\n",
    "    for i in args:\n",
    "        print(i)\n",
    "func1(1,2,3,4,5,6,7,8,9,10)"
   ]
  },
  {
   "cell_type": "code",
   "execution_count": null,
   "id": "65ddfd30",
   "metadata": {},
   "outputs": [],
   "source": [
    "def UserDetails(*args):\n",
    "    print(args)  \n",
    "fullname = input(\"Enter your Name\")    \n",
    "UserDetails(fullname,'profession','gender','Age','Specialization')"
   ]
  },
  {
   "cell_type": "code",
   "execution_count": 8,
   "id": "f46f5e55",
   "metadata": {},
   "outputs": [
    {
     "name": "stdout",
     "output_type": "stream",
     "text": [
      "(1, 2, 3, 4, 5, 6)\n"
     ]
    }
   ],
   "source": [
    "def UserDetails(*num):\n",
    "    print(num)  \n",
    "    \n",
    "UserDetails(1,2,3,4,5,6)"
   ]
  },
  {
   "cell_type": "code",
   "execution_count": 9,
   "id": "c8432fb6",
   "metadata": {},
   "outputs": [
    {
     "name": "stdout",
     "output_type": "stream",
     "text": [
      "6\n"
     ]
    }
   ],
   "source": [
    "def my_sum(my_integers):\n",
    "    result = 0\n",
    "    for x in my_integers:\n",
    "        result += x\n",
    "    return result\n",
    "\n",
    "list_of_integers = [1, 2, 3]\n",
    "print(my_sum(list_of_integers))"
   ]
  },
  {
   "cell_type": "code",
   "execution_count": 10,
   "id": "f9bd4224",
   "metadata": {},
   "outputs": [
    {
     "name": "stdout",
     "output_type": "stream",
     "text": [
      "6\n"
     ]
    }
   ],
   "source": [
    "def my_sum(*args):\n",
    "    result = 0\n",
    "    # Iterating over the Python args tuple\n",
    "    for x in args:\n",
    "        result += x\n",
    "    return result\n",
    "\n",
    "print(my_sum(1, 2, 3))"
   ]
  },
  {
   "cell_type": "code",
   "execution_count": 13,
   "id": "5c5e6cb2",
   "metadata": {},
   "outputs": [
    {
     "ename": "IndexError",
     "evalue": "tuple index out of range",
     "output_type": "error",
     "traceback": [
      "\u001b[1;31m---------------------------------------------------------------------------\u001b[0m",
      "\u001b[1;31mIndexError\u001b[0m                                Traceback (most recent call last)",
      "\u001b[1;32m<ipython-input-13-8038aef04ce4>\u001b[0m in \u001b[0;36m<module>\u001b[1;34m\u001b[0m\n\u001b[0;32m      2\u001b[0m     \u001b[0mprint\u001b[0m\u001b[1;33m(\u001b[0m\u001b[1;34m\"The youngest programming is \"\u001b[0m \u001b[1;33m+\u001b[0m \u001b[0mprog\u001b[0m\u001b[1;33m[\u001b[0m\u001b[1;36m3\u001b[0m\u001b[1;33m]\u001b[0m\u001b[1;33m)\u001b[0m\u001b[1;33m\u001b[0m\u001b[1;33m\u001b[0m\u001b[0m\n\u001b[0;32m      3\u001b[0m \u001b[1;33m\u001b[0m\u001b[0m\n\u001b[1;32m----> 4\u001b[1;33m \u001b[0mmy_function\u001b[0m\u001b[1;33m(\u001b[0m\u001b[1;34m\"Typescript\"\u001b[0m\u001b[1;33m,\u001b[0m \u001b[1;34m\"C++\"\u001b[0m\u001b[1;33m,\u001b[0m \u001b[1;34m\"Java\"\u001b[0m\u001b[1;33m)\u001b[0m\u001b[1;33m\u001b[0m\u001b[1;33m\u001b[0m\u001b[0m\n\u001b[0m",
      "\u001b[1;32m<ipython-input-13-8038aef04ce4>\u001b[0m in \u001b[0;36mmy_function\u001b[1;34m(*prog)\u001b[0m\n\u001b[0;32m      1\u001b[0m \u001b[1;32mdef\u001b[0m \u001b[0mmy_function\u001b[0m\u001b[1;33m(\u001b[0m\u001b[1;33m*\u001b[0m\u001b[0mprog\u001b[0m\u001b[1;33m)\u001b[0m\u001b[1;33m:\u001b[0m\u001b[1;33m\u001b[0m\u001b[1;33m\u001b[0m\u001b[0m\n\u001b[1;32m----> 2\u001b[1;33m     \u001b[0mprint\u001b[0m\u001b[1;33m(\u001b[0m\u001b[1;34m\"The youngest programming is \"\u001b[0m \u001b[1;33m+\u001b[0m \u001b[0mprog\u001b[0m\u001b[1;33m[\u001b[0m\u001b[1;36m3\u001b[0m\u001b[1;33m]\u001b[0m\u001b[1;33m)\u001b[0m\u001b[1;33m\u001b[0m\u001b[1;33m\u001b[0m\u001b[0m\n\u001b[0m\u001b[0;32m      3\u001b[0m \u001b[1;33m\u001b[0m\u001b[0m\n\u001b[0;32m      4\u001b[0m \u001b[0mmy_function\u001b[0m\u001b[1;33m(\u001b[0m\u001b[1;34m\"Typescript\"\u001b[0m\u001b[1;33m,\u001b[0m \u001b[1;34m\"C++\"\u001b[0m\u001b[1;33m,\u001b[0m \u001b[1;34m\"Java\"\u001b[0m\u001b[1;33m)\u001b[0m\u001b[1;33m\u001b[0m\u001b[1;33m\u001b[0m\u001b[0m\n",
      "\u001b[1;31mIndexError\u001b[0m: tuple index out of range"
     ]
    }
   ],
   "source": [
    "def my_function(*prog):\n",
    "    print(\"The youngest programming is \" + prog[3])\n",
    "\n",
    "my_function(\"Typescript\", \"C++\", \"Java\")"
   ]
  },
  {
   "cell_type": "code",
   "execution_count": null,
   "id": "861daa74",
   "metadata": {},
   "outputs": [],
   "source": [
    "def UserDetails(*args):\n",
    "    print(args)  \n",
    "    \n",
    "UserDetails(\"Key value pair\")"
   ]
  },
  {
   "cell_type": "markdown",
   "id": "154af4a8",
   "metadata": {},
   "source": [
    "# Multiple Parameter & Multiple Arguments Using \"**kwargs\"\n"
   ]
  },
  {
   "cell_type": "code",
   "execution_count": 19,
   "id": "b8de8cc0",
   "metadata": {},
   "outputs": [
    {
     "name": "stdout",
     "output_type": "stream",
     "text": [
      "{'Name': 'sajid', 'ID': 7412, 'Pincode': 41102, 'Age': 33}\n"
     ]
    }
   ],
   "source": [
    "def UserDetails(**name): # **kwargs use only dictionary\n",
    "    print(name)\n",
    "        \n",
    "UserDetails(Name='sajid' , ID=7412 , Pincode=41102 , Age= 33)"
   ]
  },
  {
   "cell_type": "code",
   "execution_count": 20,
   "id": "e659c3fb",
   "metadata": {},
   "outputs": [
    {
     "name": "stdout",
     "output_type": "stream",
     "text": [
      "RealPythonIsGreat!\n"
     ]
    }
   ],
   "source": [
    "def concatenate(**kwargs):\n",
    "    result = \"\"\n",
    "    # Iterating over the Python kwargs dictionary\n",
    "    for arg in kwargs.values():\n",
    "        result += arg\n",
    "    return result\n",
    "\n",
    "print(concatenate(a=\"Real\", b=\"Python\", c=\"Is\", d=\"Great\", e=\"!\"))"
   ]
  },
  {
   "cell_type": "code",
   "execution_count": 21,
   "id": "4b15450c",
   "metadata": {},
   "outputs": [
    {
     "name": "stdout",
     "output_type": "stream",
     "text": [
      "Name :- Ahmed\n",
      "ID :- 7412\n",
      "Pincode :- 41102\n",
      "Age :- 300\n",
      "Country :- Pakistan\n",
      "language :- Urdu\n"
     ]
    }
   ],
   "source": [
    "def UserDetails(**kwargs):\n",
    "    for key,val in kwargs.items():\n",
    "        print(\"{} :- {}\".format(key,val))\n",
    "UserDetails(Name='Ahmed' , ID=7412 , Pincode=41102 , Age= 300 , Country= 'Pakistan',language='Urdu')"
   ]
  },
  {
   "cell_type": "code",
   "execution_count": 22,
   "id": "c7cd60d9",
   "metadata": {},
   "outputs": [
    {
     "data": {
      "text/plain": [
       "'AhmedAhsan'"
      ]
     },
     "execution_count": 22,
     "metadata": {},
     "output_type": "execute_result"
    }
   ],
   "source": [
    "name = \"Ahmed\"\n",
    "fname = \"Ahsan\"\n",
    "fullname = name+fname\n",
    "fullname"
   ]
  },
  {
   "cell_type": "code",
   "execution_count": 26,
   "id": "43fe9cb4",
   "metadata": {},
   "outputs": [
    {
     "name": "stdout",
     "output_type": "stream",
     "text": [
      "Hello from outer function\n",
      "Hello from inner function\n"
     ]
    }
   ],
   "source": [
    "def function1(): # outer function\n",
    "    print (\"Hello from outer function\")\n",
    "    def function2(): # inner function\n",
    "        print (\"Hello from inner function\")\n",
    "    function2()\n",
    "    \n",
    "function1()"
   ]
  },
  {
   "cell_type": "code",
   "execution_count": 29,
   "id": "5dce6a64",
   "metadata": {},
   "outputs": [
    {
     "name": "stdout",
     "output_type": "stream",
     "text": [
      "<function num1.<locals>.num2 at 0x00000214DC5ECAF0>\n",
      "50\n"
     ]
    }
   ],
   "source": [
    "def num1(x):\n",
    "    def num2(y):\n",
    "        return x * y\n",
    "    return num2\n",
    "\n",
    "res = num1(10)\n",
    "print(res)\n",
    "print(res(5))"
   ]
  },
  {
   "cell_type": "code",
   "execution_count": 38,
   "id": "5b5d67e9",
   "metadata": {},
   "outputs": [
    {
     "name": "stdout",
     "output_type": "stream",
     "text": [
      "300000\n"
     ]
    }
   ],
   "source": [
    "def num1(x):\n",
    "    def num2(y):\n",
    "        def num3(z):\n",
    "            return x**y*z # 10*5*3\n",
    "        return num3\n",
    "    return num2\n",
    "\n",
    "res = num1(10)\n",
    "a=res(5)\n",
    "print(a(3))"
   ]
  },
  {
   "cell_type": "code",
   "execution_count": 39,
   "id": "cabdae24",
   "metadata": {},
   "outputs": [
    {
     "ename": "NameError",
     "evalue": "name 'num2' is not defined",
     "output_type": "error",
     "traceback": [
      "\u001b[1;31m---------------------------------------------------------------------------\u001b[0m",
      "\u001b[1;31mNameError\u001b[0m                                 Traceback (most recent call last)",
      "\u001b[1;32m<ipython-input-39-ef96694dcd0c>\u001b[0m in \u001b[0;36m<module>\u001b[1;34m\u001b[0m\n\u001b[0;32m      7\u001b[0m \u001b[1;33m\u001b[0m\u001b[0m\n\u001b[0;32m      8\u001b[0m \u001b[0mres\u001b[0m \u001b[1;33m=\u001b[0m \u001b[0mnum1\u001b[0m\u001b[1;33m(\u001b[0m\u001b[1;36m10\u001b[0m\u001b[1;33m)\u001b[0m\u001b[1;33m\u001b[0m\u001b[1;33m\u001b[0m\u001b[0m\n\u001b[1;32m----> 9\u001b[1;33m \u001b[0ma\u001b[0m\u001b[1;33m=\u001b[0m\u001b[0mres\u001b[0m\u001b[1;33m(\u001b[0m\u001b[0mnum2\u001b[0m\u001b[1;33m(\u001b[0m\u001b[1;36m5\u001b[0m\u001b[1;33m)\u001b[0m\u001b[1;33m)\u001b[0m\u001b[1;33m\u001b[0m\u001b[1;33m\u001b[0m\u001b[0m\n\u001b[0m\u001b[0;32m     10\u001b[0m \u001b[0mprint\u001b[0m\u001b[1;33m(\u001b[0m\u001b[0ma\u001b[0m\u001b[1;33m(\u001b[0m\u001b[1;36m3\u001b[0m\u001b[1;33m)\u001b[0m\u001b[1;33m)\u001b[0m\u001b[1;33m\u001b[0m\u001b[1;33m\u001b[0m\u001b[0m\n",
      "\u001b[1;31mNameError\u001b[0m: name 'num2' is not defined"
     ]
    }
   ],
   "source": [
    "def num1(x):\n",
    "    def num2(y):\n",
    "        def num3(z):\n",
    "            return x**y*z # 10*5*3\n",
    "        return num3\n",
    "    return num2\n",
    "\n",
    "res = num1(10)\n",
    "a=res(num2(5))\n",
    "print(a(3))"
   ]
  },
  {
   "cell_type": "code",
   "execution_count": 40,
   "id": "e5edf44d",
   "metadata": {},
   "outputs": [
    {
     "name": "stdout",
     "output_type": "stream",
     "text": [
      "syed muhammad hurr \n"
     ]
    }
   ],
   "source": [
    "def fname(name1):\n",
    "    def mname(name2):\n",
    "        def lname(name3):\n",
    "            return name1+name2+name3\n",
    "        return lname\n",
    "    return mname\n",
    "fullname= fname('syed ')\n",
    "a = fullname('muhammad ')\n",
    "print(a('hurr '))"
   ]
  },
  {
   "cell_type": "code",
   "execution_count": 41,
   "id": "a1ca59a9",
   "metadata": {},
   "outputs": [
    {
     "name": "stdout",
     "output_type": "stream",
     "text": [
      "2\n",
      "9\n"
     ]
    }
   ],
   "source": [
    "def function1(): # outer function\n",
    "    x = 2 # A variable defined within the outer function\n",
    "    def function2(a): # inner function\n",
    "       # Let's define a new variable within the inner function\n",
    "       # rather than changing the value of x of the outer function\n",
    "        x = 6\n",
    "        print (a+x)\n",
    "    print (x) # to display the value of x of the outer function\n",
    "    function2(3)\n",
    "\n",
    "function1()"
   ]
  },
  {
   "cell_type": "code",
   "execution_count": 1,
   "id": "c9c3b62d",
   "metadata": {},
   "outputs": [],
   "source": [
    "import calculator"
   ]
  },
  {
   "cell_type": "code",
   "execution_count": 2,
   "id": "a5de8148",
   "metadata": {},
   "outputs": [
    {
     "data": {
      "text/plain": [
       "9"
      ]
     },
     "execution_count": 2,
     "metadata": {},
     "output_type": "execute_result"
    }
   ],
   "source": [
    "calculator.square(3)"
   ]
  },
  {
   "cell_type": "code",
   "execution_count": 3,
   "id": "9ce23e81",
   "metadata": {},
   "outputs": [
    {
     "data": {
      "text/plain": [
       "4"
      ]
     },
     "execution_count": 3,
     "metadata": {},
     "output_type": "execute_result"
    }
   ],
   "source": [
    "calculator.square(2)"
   ]
  },
  {
   "cell_type": "code",
   "execution_count": 4,
   "id": "1b4d41ed",
   "metadata": {},
   "outputs": [
    {
     "ename": "NameError",
     "evalue": "name 'fname' is not defined",
     "output_type": "error",
     "traceback": [
      "\u001b[1;31m---------------------------------------------------------------------------\u001b[0m",
      "\u001b[1;31mNameError\u001b[0m                                 Traceback (most recent call last)",
      "\u001b[1;32m<ipython-input-4-8baa6a877c18>\u001b[0m in \u001b[0;36m<module>\u001b[1;34m\u001b[0m\n\u001b[1;32m----> 1\u001b[1;33m \u001b[0mfullname\u001b[0m\u001b[1;33m=\u001b[0m \u001b[0mfname\u001b[0m\u001b[1;33m(\u001b[0m\u001b[1;34m'syed '\u001b[0m\u001b[1;33m)\u001b[0m\u001b[1;33m\u001b[0m\u001b[1;33m\u001b[0m\u001b[0m\n\u001b[0m\u001b[0;32m      2\u001b[0m \u001b[0ma\u001b[0m \u001b[1;33m=\u001b[0m \u001b[0mfullname\u001b[0m\u001b[1;33m(\u001b[0m\u001b[1;34m'muhammad '\u001b[0m\u001b[1;33m)\u001b[0m\u001b[1;33m\u001b[0m\u001b[1;33m\u001b[0m\u001b[0m\n\u001b[0;32m      3\u001b[0m \u001b[0mprint\u001b[0m\u001b[1;33m(\u001b[0m\u001b[0ma\u001b[0m\u001b[1;33m(\u001b[0m\u001b[1;34m'hurr '\u001b[0m\u001b[1;33m)\u001b[0m\u001b[1;33m)\u001b[0m\u001b[1;33m\u001b[0m\u001b[1;33m\u001b[0m\u001b[0m\n",
      "\u001b[1;31mNameError\u001b[0m: name 'fname' is not defined"
     ]
    }
   ],
   "source": [
    "fullname= fname('syed ')\n",
    "a = fullname('muhammad ')\n",
    "print(a('hurr '))"
   ]
  },
  {
   "cell_type": "code",
   "execution_count": null,
   "id": "70562ee0",
   "metadata": {},
   "outputs": [],
   "source": []
  }
 ],
 "metadata": {
  "kernelspec": {
   "display_name": "Python 3",
   "language": "python",
   "name": "python3"
  },
  "language_info": {
   "codemirror_mode": {
    "name": "ipython",
    "version": 3
   },
   "file_extension": ".py",
   "mimetype": "text/x-python",
   "name": "python",
   "nbconvert_exporter": "python",
   "pygments_lexer": "ipython3",
   "version": "3.8.8"
  }
 },
 "nbformat": 4,
 "nbformat_minor": 5
}
