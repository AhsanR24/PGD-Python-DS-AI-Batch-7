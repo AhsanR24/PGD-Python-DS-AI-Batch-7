{
 "cells": [
  {
   "cell_type": "code",
   "execution_count": 15,
   "id": "b86314f5",
   "metadata": {},
   "outputs": [],
   "source": [
    "# The list is a data structuring method that allows storing the integers or the characters in an order indexed by starting from 0.\n",
    "# List operations are the operations that can be performed on the data in the list data structure. \n",
    "# A few of the basic list operations used in Python programming are extend(), insert(), append(), remove(), pop(), slice, reverse(), min() & max(), concatenate(), count(), multiply(), sort(), index(), clear(), etc."
   ]
  },
  {
   "cell_type": "code",
   "execution_count": 25,
   "id": "4722e5dc",
   "metadata": {},
   "outputs": [
    {
     "name": "stdout",
     "output_type": "stream",
     "text": [
      "<class 'list'>\n",
      "['Sajid Majeed', 31, 3.8]\n"
     ]
    }
   ],
   "source": [
    "person = [\"Sajid Majeed\" , 31 , 3.8 ] # [0,1,2] ,[-3,-2,-1]\n",
    "print(type(person))\n",
    "print(person)"
   ]
  },
  {
   "cell_type": "code",
   "execution_count": 33,
   "id": "1c07487f",
   "metadata": {},
   "outputs": [
    {
     "name": "stdout",
     "output_type": "stream",
     "text": [
      "Sajid Majeed\n",
      "Sajid Majeed\n"
     ]
    }
   ],
   "source": [
    "print(person[0])\n",
    "print(person[-3])"
   ]
  },
  {
   "cell_type": "code",
   "execution_count": 64,
   "id": "eee86cdd",
   "metadata": {},
   "outputs": [
    {
     "name": "stdout",
     "output_type": "stream",
     "text": [
      "['Sajid Majeed', 31, 3.8]\n",
      "[31, 3.8]\n",
      "['Sajid Majeed', 31]\n",
      "['Sajid Majeed', 31]\n",
      "['Sajid Majeed', 3.8]\n",
      "[]\n"
     ]
    }
   ],
   "source": [
    "# list [Inclusive : Exclusive]\n",
    "print(person[:])\n",
    "print(person[1:])\n",
    "print(person[0:2])\n",
    "print(person[-3:-1])\n",
    "print(person[0:3:2])\n",
    "print(person[0:2:-1])\n"
   ]
  },
  {
   "cell_type": "code",
   "execution_count": 26,
   "id": "0c986462",
   "metadata": {},
   "outputs": [
    {
     "data": {
      "text/plain": [
       "3"
      ]
     },
     "execution_count": 26,
     "metadata": {},
     "output_type": "execute_result"
    }
   ],
   "source": [
    "len(person)"
   ]
  },
  {
   "cell_type": "code",
   "execution_count": 65,
   "id": "8fdc303e",
   "metadata": {},
   "outputs": [],
   "source": [
    "person.append(\"Abdul Majeed\")"
   ]
  },
  {
   "cell_type": "code",
   "execution_count": 66,
   "id": "713e5b9f",
   "metadata": {},
   "outputs": [
    {
     "data": {
      "text/plain": [
       "['Sajid Majeed', 31, 3.8, 'Abdul Majeed']"
      ]
     },
     "execution_count": 66,
     "metadata": {},
     "output_type": "execute_result"
    }
   ],
   "source": [
    "person"
   ]
  },
  {
   "cell_type": "code",
   "execution_count": 67,
   "id": "5603352a",
   "metadata": {},
   "outputs": [],
   "source": [
    "person.insert(1,\"Abdul Majeed\")"
   ]
  },
  {
   "cell_type": "code",
   "execution_count": 68,
   "id": "b1263720",
   "metadata": {},
   "outputs": [
    {
     "data": {
      "text/plain": [
       "['Sajid Majeed', 'Abdul Majeed', 31, 3.8, 'Abdul Majeed']"
      ]
     },
     "execution_count": 68,
     "metadata": {},
     "output_type": "execute_result"
    }
   ],
   "source": [
    "person"
   ]
  },
  {
   "cell_type": "code",
   "execution_count": 69,
   "id": "fc320a11",
   "metadata": {},
   "outputs": [],
   "source": [
    "person.remove(31)"
   ]
  },
  {
   "cell_type": "code",
   "execution_count": 73,
   "id": "8286d341",
   "metadata": {},
   "outputs": [
    {
     "data": {
      "text/plain": [
       "['Sajid Majeed', 3.8]"
      ]
     },
     "execution_count": 73,
     "metadata": {},
     "output_type": "execute_result"
    }
   ],
   "source": [
    "person.remove(\"Abdul Majeed\")\n",
    "person"
   ]
  },
  {
   "cell_type": "code",
   "execution_count": 74,
   "id": "63bbfab2",
   "metadata": {},
   "outputs": [
    {
     "data": {
      "text/plain": [
       "['Sajid Majeed', 3.8]"
      ]
     },
     "execution_count": 74,
     "metadata": {},
     "output_type": "execute_result"
    }
   ],
   "source": [
    "person\n"
   ]
  },
  {
   "cell_type": "code",
   "execution_count": 85,
   "id": "3a37ebb5",
   "metadata": {},
   "outputs": [
    {
     "data": {
      "text/plain": [
       "['java', 'python', 'c']"
      ]
     },
     "execution_count": 85,
     "metadata": {},
     "output_type": "execute_result"
    }
   ],
   "source": [
    "person=['Sajid Majeed', 3.8,[\"java\",\"python\",\"c\",[\"Dell\",\"HP\"]]]\n",
    "person[2][0:3]"
   ]
  },
  {
   "cell_type": "code",
   "execution_count": 89,
   "id": "2385b732",
   "metadata": {},
   "outputs": [
    {
     "name": "stdout",
     "output_type": "stream",
     "text": [
      "wellcome to generate password\n",
      "How many letters you want to use ?3\n",
      "How many numbers you want to use ?2\n",
      "How many symbols you want to use ?2\n",
      "\n",
      "ieK98#(\n"
     ]
    }
   ],
   "source": [
    "import random\n",
    "letters = ['a', 'b', 'c', 'd', 'e', 'f', 'g', 'h', 'i', 'j', 'k', 'l', 'm', 'n', 'o', 'p', 'q', 'r', 's', 't', 'u', 'v', 'w', 'x', 'y', 'z', 'A', 'B', 'C', 'D', 'E', 'F', 'G', 'H', 'I', 'J', 'K', 'L', 'M', 'N', 'O', 'P', 'Q', 'R', 'S', 'T', 'U', 'V', 'W', 'X', 'Y', 'Z']\n",
    "numbers = ['0', '1', '2', '3', '4', '5', '6', '7', '8', '9']\n",
    "symbols = ['!', '#', '$', '%', '&', '(', ')', '*', '+']\n",
    "\n",
    "\n",
    "print(\"wellcome to generate password\")\n",
    "nr_letters = int(input(\"How many letters you want to use ?\"))\n",
    "nr_numbers = int(input(\"How many numbers you want to use ?\"))\n",
    "nr_symbols = int(input(\"How many symbols you want to use ?\"))\n",
    "\n",
    "\n",
    "password = \"\"\n",
    "\n",
    "for char in range(1, nr_letters+1):\n",
    "    password += random.choice(letters)\n",
    "    \n",
    "for char in range(1, nr_numbers+1):\n",
    "    password += random.choice(numbers)\n",
    "\n",
    "for char in range(1, nr_symbols+1):\n",
    "    password += random.choice(symbols)\n",
    "\n",
    "print(password)"
   ]
  },
  {
   "cell_type": "code",
   "execution_count": 2,
   "id": "15a9f188",
   "metadata": {},
   "outputs": [
    {
     "name": "stdout",
     "output_type": "stream",
     "text": [
      "['apple', 'banana', 'cherry', 'kiwi', 'mango']\n",
      "['apple', 'banana', 'mango']\n"
     ]
    }
   ],
   "source": [
    "fruits = [\"apple\", \"banana\", \"cherry\", \"kiwi\", \"mango\"]\n",
    "newlist = []\n",
    "\n",
    "for elements in fruits:\n",
    "  if \"a\" in elements:\n",
    "    newlist.append(elements)\n",
    "print(fruits)\n",
    "print(newlist)"
   ]
  },
  {
   "cell_type": "code",
   "execution_count": 4,
   "id": "98d09919",
   "metadata": {},
   "outputs": [
    {
     "name": "stdout",
     "output_type": "stream",
     "text": [
      "['apple', 'banana', 'cherry', 'kiwi', 'mango']\n"
     ]
    }
   ],
   "source": [
    "fruits = [\"apple\", \"banana\", \"cherry\", \"kiwi\", \"mango\"]\n",
    "\n",
    "newlist = [elements for elements in fruits]\n",
    "\n",
    "print(newlist)"
   ]
  },
  {
   "cell_type": "code",
   "execution_count": 7,
   "id": "a8b051cb",
   "metadata": {},
   "outputs": [
    {
     "name": "stdout",
     "output_type": "stream",
     "text": [
      "[]\n"
     ]
    }
   ],
   "source": [
    "fruits = [\"apple\", \"banana\", \"cherry\", \"kiwi\", \"mango\"]\n",
    "\n",
    "newlist = [x for x in fruits if x == \"apple\"]\n",
    "\n",
    "print(newlist)"
   ]
  },
  {
   "cell_type": "code",
   "execution_count": 9,
   "id": "ec255ebb",
   "metadata": {},
   "outputs": [
    {
     "data": {
      "text/plain": [
       "False"
      ]
     },
     "execution_count": 9,
     "metadata": {},
     "output_type": "execute_result"
    }
   ],
   "source": [
    "name = \"Ahmed\"\n",
    "name1 = \"Ahmed\"\n",
    "name1>name1"
   ]
  },
  {
   "cell_type": "code",
   "execution_count": 17,
   "id": "e835c269",
   "metadata": {},
   "outputs": [
    {
     "name": "stdout",
     "output_type": "stream",
     "text": [
      "['MS Data Science', 'MS AI', 'BS Software Engieering']\n",
      "['MS Data Science', 'MS AI']\n"
     ]
    }
   ],
   "source": [
    "courses = [\"MS Data Science\", \"MS AI\", \"BS Software Engieering\",\"MPhil Chemistry\"]\n",
    "\n",
    "newlist = [x for x in courses if \"BS\" in x or \"MS\" in x]\n",
    "print(newlist)\n",
    "newlist.pop()\n",
    "print(newlist)"
   ]
  },
  {
   "cell_type": "code",
   "execution_count": 19,
   "id": "b825797b",
   "metadata": {},
   "outputs": [
    {
     "name": "stdout",
     "output_type": "stream",
     "text": [
      "[0, 1, 2, 3, 4, 5, 6, 7, 8, 9]\n"
     ]
    }
   ],
   "source": [
    "newlist = [x for x in range(10)]\n",
    "\n",
    "print(newlist)"
   ]
  },
  {
   "cell_type": "code",
   "execution_count": 20,
   "id": "b91ad855",
   "metadata": {},
   "outputs": [
    {
     "data": {
      "text/plain": [
       "10"
      ]
     },
     "execution_count": 20,
     "metadata": {},
     "output_type": "execute_result"
    }
   ],
   "source": [
    "len(newlist)"
   ]
  },
  {
   "cell_type": "code",
   "execution_count": 4,
   "id": "dc6ad12b",
   "metadata": {},
   "outputs": [
    {
     "name": "stdout",
     "output_type": "stream",
     "text": [
      "[23, 50, 65, 82, 100]\n"
     ]
    }
   ],
   "source": [
    "thislist = [100, 50, 65, 82, 23]\n",
    "thislist.sort()\n",
    "print(thislist)"
   ]
  },
  {
   "cell_type": "code",
   "execution_count": 5,
   "id": "b4fc1246",
   "metadata": {},
   "outputs": [
    {
     "data": {
      "text/plain": [
       "100"
      ]
     },
     "execution_count": 5,
     "metadata": {},
     "output_type": "execute_result"
    }
   ],
   "source": [
    "max(thislist)"
   ]
  },
  {
   "cell_type": "code",
   "execution_count": 6,
   "id": "a04e784a",
   "metadata": {},
   "outputs": [
    {
     "data": {
      "text/plain": [
       "23"
      ]
     },
     "execution_count": 6,
     "metadata": {},
     "output_type": "execute_result"
    }
   ],
   "source": [
    "min(thislist)"
   ]
  },
  {
   "cell_type": "code",
   "execution_count": 7,
   "id": "8f31959f",
   "metadata": {},
   "outputs": [
    {
     "data": {
      "text/plain": [
       "5"
      ]
     },
     "execution_count": 7,
     "metadata": {},
     "output_type": "execute_result"
    }
   ],
   "source": [
    "len(thislist)"
   ]
  },
  {
   "cell_type": "code",
   "execution_count": 10,
   "id": "29fdd600",
   "metadata": {},
   "outputs": [
    {
     "data": {
      "text/plain": [
       "[23, 50, 65, 82, 100, 400, 500]"
      ]
     },
     "execution_count": 10,
     "metadata": {},
     "output_type": "execute_result"
    }
   ],
   "source": [
    "thislist.extend([400, 500])\n",
    "thislist"
   ]
  },
  {
   "cell_type": "code",
   "execution_count": 12,
   "id": "982142aa",
   "metadata": {},
   "outputs": [
    {
     "name": "stdout",
     "output_type": "stream",
     "text": [
      "4\n"
     ]
    }
   ],
   "source": [
    "myList = [1, 2, 3, 4, 3, 7, 3, 8, 3]\n",
    "print(myList.count(3))"
   ]
  },
  {
   "cell_type": "code",
   "execution_count": 13,
   "id": "17366575",
   "metadata": {},
   "outputs": [
    {
     "name": "stdout",
     "output_type": "stream",
     "text": [
      "[1, 2, 3, 'EduCBA', 'makes learning fun!', 4, 5, 'Python', 'is fun!']\n"
     ]
    }
   ],
   "source": [
    "myList = [1, 2, 3, 'EduCBA', 'makes learning fun!']\n",
    "yourList = [4, 5, 'Python', 'is fun!']\n",
    "print(myList+yourList)"
   ]
  },
  {
   "cell_type": "code",
   "execution_count": 1,
   "id": "adf07183",
   "metadata": {},
   "outputs": [
    {
     "name": "stdout",
     "output_type": "stream",
     "text": [
      "['banana', 'kiwi', 'mango', 'mengo', 'orange', 'pineapple']\n"
     ]
    }
   ],
   "source": [
    "thislist = [\"orange\", \"mango\", \"kiwi\", \"pineapple\", \"banana\",\"mengo\"]\n",
    "thislist.sort()\n",
    "print(thislist)"
   ]
  },
  {
   "cell_type": "code",
   "execution_count": 10,
   "id": "a04b4175",
   "metadata": {},
   "outputs": [
    {
     "name": "stdout",
     "output_type": "stream",
     "text": [
      "['pineapple', 'orange', 'mango', 'kiwi', 'banana']\n"
     ]
    }
   ],
   "source": [
    "thislist = [\"orange\", \"mango\", \"kiwi\", \"pineapple\", \"banana\"]\n",
    "thislist.sort(reverse = True)\n",
    "print(thislist)"
   ]
  },
  {
   "cell_type": "code",
   "execution_count": 25,
   "id": "ba47e8d6",
   "metadata": {},
   "outputs": [
    {
     "name": "stdout",
     "output_type": "stream",
     "text": [
      "['banana', 'pineapple', 'kiwi', 'mango', 'orange']\n"
     ]
    }
   ],
   "source": [
    "thislist = [\"orange\", \"mango\", \"kiwi\", \"pineapple\", \"banana\"]\n",
    "thislist.reverse()\n",
    "print(thislist)"
   ]
  },
  {
   "cell_type": "code",
   "execution_count": 20,
   "id": "ff60e8e4",
   "metadata": {},
   "outputs": [],
   "source": [
    "thislist = [\"apple\", \"banana\", \"cherry\",\"mango\",\"kiwi\"]"
   ]
  },
  {
   "cell_type": "code",
   "execution_count": 21,
   "id": "f542294c",
   "metadata": {},
   "outputs": [
    {
     "name": "stdout",
     "output_type": "stream",
     "text": [
      "['apple', 'banana', 'cherry', 'mango', 'kiwi']\n"
     ]
    }
   ],
   "source": [
    "mylist = thislist.copy()\n",
    "print(mylist)"
   ]
  },
  {
   "cell_type": "code",
   "execution_count": 22,
   "id": "51690c19",
   "metadata": {},
   "outputs": [
    {
     "data": {
      "text/plain": [
       "['apple', 'banana', 'cherry', 'mango', 'kiwi']"
      ]
     },
     "execution_count": 22,
     "metadata": {},
     "output_type": "execute_result"
    }
   ],
   "source": [
    "mylist"
   ]
  },
  {
   "cell_type": "code",
   "execution_count": 23,
   "id": "a2b446fb",
   "metadata": {},
   "outputs": [
    {
     "data": {
      "text/plain": [
       "['apple', 'banana', 'cherry', 'mango', 'kiwi']"
      ]
     },
     "execution_count": 23,
     "metadata": {},
     "output_type": "execute_result"
    }
   ],
   "source": [
    "thislist"
   ]
  },
  {
   "cell_type": "code",
   "execution_count": 24,
   "id": "b03cbe30",
   "metadata": {},
   "outputs": [
    {
     "name": "stdout",
     "output_type": "stream",
     "text": [
      "['apple', 'banana', 'cherry', 'mango', 'kiwi', 'apple', 'banana', 'cherry', 'mango', 'kiwi']\n"
     ]
    }
   ],
   "source": [
    "print(thislist*2)"
   ]
  }
 ],
 "metadata": {
  "kernelspec": {
   "display_name": "Python 3",
   "language": "python",
   "name": "python3"
  },
  "language_info": {
   "codemirror_mode": {
    "name": "ipython",
    "version": 3
   },
   "file_extension": ".py",
   "mimetype": "text/x-python",
   "name": "python",
   "nbconvert_exporter": "python",
   "pygments_lexer": "ipython3",
   "version": "3.8.8"
  }
 },
 "nbformat": 4,
 "nbformat_minor": 5
}
