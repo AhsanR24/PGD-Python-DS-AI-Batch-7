{
 "cells": [
  {
   "cell_type": "markdown",
   "id": "694166a2",
   "metadata": {},
   "source": [
    "Certainly! Let's differentiate between lists, dictionaries, and tuples:\n",
    "\n",
    "1. **List:**\n",
    "   - A list is a collection of items that are ordered and mutable, meaning you can change, add, or remove elements after the list has been created.\n",
    "   - Lists are denoted by square brackets `[ ]`.\n",
    "   - Elements in a list are accessed by their index.\n",
    "   - Example: `my_list = [1, 2, 3, 4, 5]`\n",
    "\n",
    "2. **Dictionary:**\n",
    "   - A dictionary is a collection of key-value pairs. Each key is associated with a value, and the key-value pairs are unordered and mutable.\n",
    "   - Dictionaries are denoted by curly braces `{ }`.\n",
    "   - Elements in a dictionary are accessed by their keys rather than by their index.\n",
    "   - Example: `my_dict = {\"name\": \"Alice\", \"age\": 30, \"city\": \"New York\"}`\n",
    "\n",
    "3. **Tuple:**\n",
    "   - A tuple is a collection of items that are ordered and immutable, meaning once the tuple is created, you cannot change its elements.\n",
    "   - Tuples are denoted by parentheses `( )`.\n",
    "   - Elements in a tuple are accessed by their index, similar to lists.\n",
    "   - Example: `my_tuple = (1, 2, 3, 4, 5)`\n",
    "\n",
    "Here's a summary of the key differences between them:\n",
    "\n",
    "- **Mutability:** Lists and dictionaries are mutable, meaning their elements or key-value pairs can be modified after creation. Tuples, on the other hand, are immutable and cannot be changed.\n",
    "  \n",
    "- **Order:** Lists and tuples maintain the order of elements, meaning the order in which elements are inserted is preserved. Dictionaries, however, do not maintain any order among the key-value pairs.\n",
    "\n",
    "- **Accessing Elements:** In lists and tuples, elements are accessed by their index. In dictionaries, values are accessed by their keys.\n",
    "\n",
    "- **Syntax:** Lists are denoted by square brackets `[ ]`, dictionaries by curly braces `{ }`, and tuples by parentheses `( )`.\n",
    "\n",
    "- **Use Cases:** Lists are typically used for storing collections of similar items, while dictionaries are used for storing key-value pairs where each key maps to a value. Tuples are often used when you want to represent a fixed collection of elements that should not be changed.\n",
    "\n",
    "Understanding these differences will help you choose the appropriate data structure for your specific needs in Python."
   ]
  },
  {
   "cell_type": "markdown",
   "id": "bc05df45",
   "metadata": {},
   "source": [
    "![ALT_TEXT_FOR_SCREEN_READERS](https://images.datacamp.com/image/upload/f_auto,q_auto:best/v1595447333/pydict3_v1tdmd.png)"
   ]
  },
  {
   "cell_type": "code",
   "execution_count": 3,
   "id": "ed4a09a5",
   "metadata": {},
   "outputs": [
    {
     "name": "stdout",
     "output_type": "stream",
     "text": [
      "{}\n"
     ]
    },
    {
     "data": {
      "text/plain": [
       "dict"
      ]
     },
     "execution_count": 3,
     "metadata": {},
     "output_type": "execute_result"
    }
   ],
   "source": [
    "dic = {}  # key :value\n",
    "print(dic)\n",
    "type(dic)"
   ]
  },
  {
   "cell_type": "code",
   "execution_count": 8,
   "id": "61fe392d",
   "metadata": {},
   "outputs": [
    {
     "name": "stdout",
     "output_type": "stream",
     "text": [
      "Alice\n",
      "30\n",
      "New York\n"
     ]
    }
   ],
   "source": [
    "# Creating a dictionary\n",
    "person = {\"name\": \"Alice\", \"age\": 30, \"city\": \"New York\"}\n",
    "\n",
    "# Accessing elements\n",
    "print(person[\"name\"])  # Output: Alice\n",
    "print(person[\"age\"])   # Output: 30\n",
    "print(person[\"city\"])  # Output: New York\n"
   ]
  },
  {
   "cell_type": "code",
   "execution_count": 9,
   "id": "278108d7",
   "metadata": {},
   "outputs": [
    {
     "data": {
      "text/plain": [
       "dict"
      ]
     },
     "execution_count": 9,
     "metadata": {},
     "output_type": "execute_result"
    }
   ],
   "source": [
    "type(person)"
   ]
  },
  {
   "cell_type": "code",
   "execution_count": 10,
   "id": "2c29105e",
   "metadata": {},
   "outputs": [],
   "source": [
    "# Adding some value to dic\n",
    "person['profession'] = 'Data Scientist'"
   ]
  },
  {
   "cell_type": "code",
   "execution_count": 11,
   "id": "d9c6e65c",
   "metadata": {},
   "outputs": [],
   "source": [
    "person['Skills'] = ['python','ML','Data Scientist']"
   ]
  },
  {
   "cell_type": "code",
   "execution_count": 12,
   "id": "20b6089f",
   "metadata": {},
   "outputs": [
    {
     "data": {
      "text/plain": [
       "{'name': 'Alice',\n",
       " 'age': 30,\n",
       " 'city': 'New York',\n",
       " 'profession': 'Data Scientist',\n",
       " 'Skills': ['python', 'ML', 'Data Scientist']}"
      ]
     },
     "execution_count": 12,
     "metadata": {},
     "output_type": "execute_result"
    }
   ],
   "source": [
    "person"
   ]
  },
  {
   "cell_type": "code",
   "execution_count": 13,
   "id": "5bf89b88",
   "metadata": {},
   "outputs": [],
   "source": [
    "del person['profession']"
   ]
  },
  {
   "cell_type": "code",
   "execution_count": 14,
   "id": "2efb4da6",
   "metadata": {},
   "outputs": [
    {
     "data": {
      "text/plain": [
       "{'name': 'Alice',\n",
       " 'age': 30,\n",
       " 'city': 'New York',\n",
       " 'Skills': ['python', 'ML', 'Data Scientist']}"
      ]
     },
     "execution_count": 14,
     "metadata": {},
     "output_type": "execute_result"
    }
   ],
   "source": [
    "person"
   ]
  },
  {
   "cell_type": "code",
   "execution_count": 46,
   "id": "65e7a3f0",
   "metadata": {},
   "outputs": [
    {
     "data": {
      "text/plain": [
       "dict_keys(['name', 'age', 'city'])"
      ]
     },
     "execution_count": 46,
     "metadata": {},
     "output_type": "execute_result"
    }
   ],
   "source": [
    "person.keys()"
   ]
  },
  {
   "cell_type": "code",
   "execution_count": 47,
   "id": "9dbbf890",
   "metadata": {},
   "outputs": [
    {
     "data": {
      "text/plain": [
       "dict_values(['Alice', 30, 'New York'])"
      ]
     },
     "execution_count": 47,
     "metadata": {},
     "output_type": "execute_result"
    }
   ],
   "source": [
    "person.values()"
   ]
  },
  {
   "cell_type": "code",
   "execution_count": 18,
   "id": "1adfe77c",
   "metadata": {},
   "outputs": [],
   "source": [
    "data = {}"
   ]
  },
  {
   "cell_type": "code",
   "execution_count": 20,
   "id": "84001ebc",
   "metadata": {},
   "outputs": [
    {
     "data": {
      "text/plain": [
       "{}"
      ]
     },
     "execution_count": 20,
     "metadata": {},
     "output_type": "execute_result"
    }
   ],
   "source": [
    "data"
   ]
  },
  {
   "cell_type": "code",
   "execution_count": 22,
   "id": "d18c7fd9",
   "metadata": {},
   "outputs": [],
   "source": [
    "# data['fname'] = 'Joe'\n",
    "# data['lname'] = 'Fonebone'\n",
    "# data['age'] = 51\n",
    "# data['spouse'] = 'Edna'\n",
    "# data['children'] = ['Ralph', 'Betty', 'Joey']\n",
    "# data['pets'] = {'dog': 'Fido', 'cat': 'Sox'}"
   ]
  },
  {
   "cell_type": "code",
   "execution_count": 15,
   "id": "bab7e6c1",
   "metadata": {},
   "outputs": [
    {
     "name": "stdout",
     "output_type": "stream",
     "text": [
      "35\n"
     ]
    }
   ],
   "source": [
    "# Modifying values in a dictionary\n",
    "person = {\"name\": \"Alice\", \"age\": 30, \"city\": \"New York\"}\n",
    "\n",
    "# Modifying the value associated with the \"age\" key\n",
    "person[\"age\"] = 35\n",
    "print(person[\"age\"])  # Output: 35\n"
   ]
  },
  {
   "cell_type": "code",
   "execution_count": 18,
   "id": "bdf99646",
   "metadata": {},
   "outputs": [
    {
     "name": "stdout",
     "output_type": "stream",
     "text": [
      "Name exists in the dictionary.\n"
     ]
    }
   ],
   "source": [
    "# Checking if a key exists in a dictionary\n",
    "person = {\"name\": \"Alice\", \"age\": 30, \"city\": \"New York\"}\n",
    "\n",
    "if \"name\" in person:\n",
    "    print(\"Name exists in the dictionary.\")\n",
    "else:\n",
    "    print(\"Name does not exist in the dictionary.\")\n"
   ]
  },
  {
   "cell_type": "code",
   "execution_count": 20,
   "id": "ceac7d1d",
   "metadata": {},
   "outputs": [
    {
     "name": "stdout",
     "output_type": "stream",
     "text": [
      "3\n"
     ]
    }
   ],
   "source": [
    "# Getting the length of a dictionary\n",
    "person = {\"name\": \"Alice\", \"age\": 30, \"city\": \"New York\"}\n",
    "\n",
    "print(len(person))  # Output: 3\n"
   ]
  },
  {
   "cell_type": "code",
   "execution_count": 27,
   "id": "1836b08b",
   "metadata": {},
   "outputs": [
    {
     "data": {
      "text/plain": [
       "True"
      ]
     },
     "execution_count": 27,
     "metadata": {},
     "output_type": "execute_result"
    }
   ],
   "source": [
    "'name' in person"
   ]
  },
  {
   "cell_type": "code",
   "execution_count": 21,
   "id": "c8bdd0dc",
   "metadata": {},
   "outputs": [
    {
     "data": {
      "text/plain": [
       "3"
      ]
     },
     "execution_count": 21,
     "metadata": {},
     "output_type": "execute_result"
    }
   ],
   "source": [
    "len(person)"
   ]
  },
  {
   "cell_type": "code",
   "execution_count": 30,
   "id": "8c39e496",
   "metadata": {},
   "outputs": [],
   "source": [
    "person.clear()"
   ]
  },
  {
   "cell_type": "code",
   "execution_count": 22,
   "id": "507a6f91",
   "metadata": {},
   "outputs": [
    {
     "data": {
      "text/plain": [
       "'Alice'"
      ]
     },
     "execution_count": 22,
     "metadata": {},
     "output_type": "execute_result"
    }
   ],
   "source": [
    "person.get('name')"
   ]
  },
  {
   "cell_type": "code",
   "execution_count": 31,
   "id": "f5a2c9a2",
   "metadata": {},
   "outputs": [
    {
     "data": {
      "text/plain": [
       "{}"
      ]
     },
     "execution_count": 31,
     "metadata": {},
     "output_type": "execute_result"
    }
   ],
   "source": [
    "person"
   ]
  },
  {
   "cell_type": "code",
   "execution_count": 33,
   "id": "b33da3e4",
   "metadata": {},
   "outputs": [
    {
     "name": "stdout",
     "output_type": "stream",
     "text": [
      "New York\n"
     ]
    }
   ],
   "source": [
    "print(person.get('city'))"
   ]
  },
  {
   "cell_type": "code",
   "execution_count": 34,
   "id": "84685c4c",
   "metadata": {},
   "outputs": [
    {
     "data": {
      "text/plain": [
       "[('name', 'Alice'), ('age', 30), ('city', 'New York')]"
      ]
     },
     "execution_count": 34,
     "metadata": {},
     "output_type": "execute_result"
    }
   ],
   "source": [
    "list(person.items())"
   ]
  },
  {
   "cell_type": "code",
   "execution_count": 35,
   "id": "a13e24f7",
   "metadata": {},
   "outputs": [
    {
     "data": {
      "text/plain": [
       "('name', 'Alice')"
      ]
     },
     "execution_count": 35,
     "metadata": {},
     "output_type": "execute_result"
    }
   ],
   "source": [
    "list(person.items())[0]"
   ]
  },
  {
   "cell_type": "code",
   "execution_count": 51,
   "id": "5e807069",
   "metadata": {},
   "outputs": [],
   "source": [
    "person = {\"name\": \"Alice\", \"age\": 30, \"city\": \"New York\"}"
   ]
  },
  {
   "cell_type": "code",
   "execution_count": 52,
   "id": "65bab75e",
   "metadata": {},
   "outputs": [
    {
     "data": {
      "text/plain": [
       "'Alice'"
      ]
     },
     "execution_count": 52,
     "metadata": {},
     "output_type": "execute_result"
    }
   ],
   "source": [
    "person.pop('name')"
   ]
  },
  {
   "cell_type": "code",
   "execution_count": 54,
   "id": "4f0d07de",
   "metadata": {},
   "outputs": [
    {
     "data": {
      "text/plain": [
       "('city', 'New York')"
      ]
     },
     "execution_count": 54,
     "metadata": {},
     "output_type": "execute_result"
    }
   ],
   "source": [
    "person = {\"name\": \"Alice\", \"age\": 30, \"city\": \"New York\"}\n",
    "person.popitem()"
   ]
  },
  {
   "cell_type": "code",
   "execution_count": 56,
   "id": "9d705f70",
   "metadata": {},
   "outputs": [
    {
     "data": {
      "text/plain": [
       "{'a': 10, 'b': 200, 'c': 30, 'd': 400}"
      ]
     },
     "execution_count": 56,
     "metadata": {},
     "output_type": "execute_result"
    }
   ],
   "source": [
    "d1 = {'a': 10, 'b': 20, 'c': 30}\n",
    "d2 = {'b': 200, 'd': 400}\n",
    "\n",
    "d1.update(d2)\n",
    "d1"
   ]
  },
  {
   "cell_type": "code",
   "execution_count": 58,
   "id": "49cf2111",
   "metadata": {},
   "outputs": [
    {
     "data": {
      "text/plain": [
       "{'a': 10, 'b': 200, 'c': 30, 'd': 400}"
      ]
     },
     "execution_count": 58,
     "metadata": {},
     "output_type": "execute_result"
    }
   ],
   "source": [
    "d1 = {'a': 10, 'b': 20, 'c': 30}\n",
    "d1.update(b=200, d=400)\n",
    "d1"
   ]
  },
  {
   "cell_type": "code",
   "execution_count": 66,
   "id": "a016620a",
   "metadata": {},
   "outputs": [],
   "source": [
    "# Iterating through a dictionary\n",
    "person = {\"name\": \"Alice\", \"age\": 30, \"city\": \"New York\"}\n"
   ]
  },
  {
   "cell_type": "code",
   "execution_count": 67,
   "id": "bf92d27a",
   "metadata": {},
   "outputs": [
    {
     "name": "stdout",
     "output_type": "stream",
     "text": [
      "name\n",
      "age\n",
      "city\n"
     ]
    }
   ],
   "source": [
    "# Iterating through keys\n",
    "for key in person:\n",
    "    print(key)\n",
    "\n"
   ]
  },
  {
   "cell_type": "code",
   "execution_count": 69,
   "id": "1a06e9b7",
   "metadata": {},
   "outputs": [
    {
     "name": "stdout",
     "output_type": "stream",
     "text": [
      "Alice\n",
      "30\n",
      "New York\n"
     ]
    }
   ],
   "source": [
    "for value in person:\n",
    "    print(person[value])"
   ]
  },
  {
   "cell_type": "code",
   "execution_count": 61,
   "id": "d7027503",
   "metadata": {},
   "outputs": [
    {
     "name": "stdout",
     "output_type": "stream",
     "text": [
      "Alice\n",
      "30\n",
      "New York\n"
     ]
    }
   ],
   "source": [
    "# Iterating through values\n",
    "for value in person.values():\n",
    "    print(value)\n",
    "\n"
   ]
  },
  {
   "cell_type": "code",
   "execution_count": 62,
   "id": "eec3deea",
   "metadata": {},
   "outputs": [
    {
     "name": "stdout",
     "output_type": "stream",
     "text": [
      "name: Alice\n",
      "age: 30\n",
      "city: New York\n"
     ]
    }
   ],
   "source": [
    "# Iterating through key-value pairs\n",
    "for key, value in person.items():\n",
    "    print(key + \": \" + str(value))"
   ]
  },
  {
   "cell_type": "code",
   "execution_count": 63,
   "id": "1e97510f",
   "metadata": {},
   "outputs": [
    {
     "name": "stdout",
     "output_type": "stream",
     "text": [
      "{'name': 'Alice', 'age': 30, 'city': 'New York'}\n"
     ]
    }
   ],
   "source": [
    "# Adding and removing items from a dictionary\n",
    "person = {\"name\": \"Alice\", \"age\": 30}\n",
    "\n",
    "# Adding a new key-value pair\n",
    "person[\"city\"] = \"New York\"\n",
    "print(person)  # Output: {'name': 'Alice', 'age': 30, 'city': 'New York'}\n",
    "\n",
    "\n"
   ]
  },
  {
   "cell_type": "code",
   "execution_count": 64,
   "id": "8e32e913",
   "metadata": {},
   "outputs": [
    {
     "name": "stdout",
     "output_type": "stream",
     "text": [
      "{'name': 'Alice', 'city': 'New York'}\n"
     ]
    }
   ],
   "source": [
    "# Removing a key-value pair\n",
    "del person[\"age\"]\n",
    "print(person)  # Output: {'name': 'Alice', 'city': 'New York'}"
   ]
  }
 ],
 "metadata": {
  "kernelspec": {
   "display_name": "Python 3",
   "language": "python",
   "name": "python3"
  },
  "language_info": {
   "codemirror_mode": {
    "name": "ipython",
    "version": 3
   },
   "file_extension": ".py",
   "mimetype": "text/x-python",
   "name": "python",
   "nbconvert_exporter": "python",
   "pygments_lexer": "ipython3",
   "version": "3.8.8"
  }
 },
 "nbformat": 4,
 "nbformat_minor": 5
}
